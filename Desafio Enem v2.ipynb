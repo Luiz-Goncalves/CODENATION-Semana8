{
 "cells": [
  {
   "cell_type": "code",
   "execution_count": 1,
   "metadata": {
    "ExecuteTime": {
     "end_time": "2020-08-05T20:02:38.505046Z",
     "start_time": "2020-08-05T20:02:36.567849Z"
    }
   },
   "outputs": [],
   "source": [
    "import pandas as pd\n",
    "import matplotlib.pyplot as plt\n",
    "import seaborn as sns\n",
    "import numpy as np\n",
    "from scipy.stats import norm\n",
    "from sklearn.model_selection import train_test_split\n",
    "from sklearn.metrics import r2_score\n",
    "from sklearn.decomposition import PCA\n",
    "from sklearn.feature_selection import RFE\n",
    "from sklearn.preprocessing import StandardScaler\n",
    "from sklearn.linear_model import LinearRegression\n",
    "from sklearn.linear_model import RidgeCV\n",
    "from sklearn.linear_model import LassoCV\n",
    "from sklearn.model_selection import GridSearchCV"
   ]
  },
  {
   "cell_type": "code",
   "execution_count": 2,
   "metadata": {
    "ExecuteTime": {
     "end_time": "2020-08-05T20:02:38.937343Z",
     "start_time": "2020-08-05T20:02:38.505046Z"
    }
   },
   "outputs": [],
   "source": [
    "# Leitura do dataset\n",
    "df = pd.read_csv('C:\\\\Users\\\\Luiz Guilherme\\\\codenation\\\\enem-2\\\\train.CSV')"
   ]
  },
  {
   "cell_type": "code",
   "execution_count": 3,
   "metadata": {
    "ExecuteTime": {
     "end_time": "2020-08-05T20:02:39.037621Z",
     "start_time": "2020-08-05T20:02:38.937343Z"
    }
   },
   "outputs": [],
   "source": [
    "# Eliminando colunas não presentes no test do treino\n",
    "df_test = pd.read_csv('C:\\\\Users\\\\Luiz Guilherme\\\\codenation\\\\enem-2\\\\test.CSV')\n",
    "colunas = list(df_test.columns)\n",
    "colunas.append('NU_NOTA_MT')\n",
    "df=df[colunas]"
   ]
  },
  {
   "cell_type": "code",
   "execution_count": 4,
   "metadata": {
    "ExecuteTime": {
     "end_time": "2020-08-05T20:02:39.160106Z",
     "start_time": "2020-08-05T20:02:39.037621Z"
    }
   },
   "outputs": [],
   "source": [
    "# Dropando colunas object desnecessárias\n",
    "df = df.drop(['CO_PROVA_CN','CO_PROVA_CH','CO_PROVA_LC','CO_PROVA_MT','NU_INSCRICAO','SG_UF_RESIDENCIA'],axis=1)\n",
    "\n",
    "# Dropando colunas com mais de 4000 valores faltantes\n",
    "df = df.drop(df.columns[df.isna().sum()>4000],axis=1)\n",
    "\n",
    "# Inputando 0 nos valores faltantes de notas\n",
    "df=df.fillna(0)"
   ]
  },
  {
   "cell_type": "code",
   "execution_count": 5,
   "metadata": {
    "ExecuteTime": {
     "end_time": "2020-08-05T20:02:39.476597Z",
     "start_time": "2020-08-05T20:02:39.160106Z"
    },
    "scrolled": true
   },
   "outputs": [],
   "source": [
    "# Encoding\n",
    "df['TP_SEXO'] = df['TP_SEXO'].replace({'M':0, 'F':1})\n",
    "colunas = ['Q001','Q002','Q006','Q024','Q025','Q026','Q047']\n",
    "encoder = {'A':1,'B':2,'C':3,'D':4,'E':5,'F':6,'G':7,'H':8,'I':9,\n",
    "           'J':10,'K':11,'L':12,'M':13,'N':14,'O':15,'P':16,'Q':17}\n",
    "df[colunas] = df[colunas].replace(encoder)"
   ]
  },
  {
   "cell_type": "code",
   "execution_count": 6,
   "metadata": {
    "ExecuteTime": {
     "end_time": "2020-08-05T20:02:39.507838Z",
     "start_time": "2020-08-05T20:02:39.476597Z"
    }
   },
   "outputs": [],
   "source": [
    "df['LOG_NOTA_MT'] = np.log(df['NU_NOTA_MT']+0.1)\n",
    "df['NU_NOTA_CN'] = np.log(df['NU_NOTA_CN']+0.1)\n",
    "df['NU_NOTA_CH'] = np.log(df['NU_NOTA_CH']+0.1)\n",
    "df['NU_NOTA_LC'] = np.log(df['NU_NOTA_LC']+0.1)\n",
    "df['NU_NOTA_REDACAO'] = np.log(df['NU_NOTA_REDACAO']+0.1)"
   ]
  },
  {
   "cell_type": "code",
   "execution_count": 7,
   "metadata": {
    "ExecuteTime": {
     "end_time": "2020-08-05T20:02:39.677140Z",
     "start_time": "2020-08-05T20:02:39.507838Z"
    }
   },
   "outputs": [],
   "source": [
    "X = df.drop(['NU_NOTA_MT','LOG_NOTA_MT'],axis=1)\n",
    "y = df['LOG_NOTA_MT']\n",
    "scaler = StandardScaler()\n",
    "X = scaler.fit_transform(X)\n",
    "X = pd.DataFrame(X)\n",
    "X.columns = df.drop(['NU_NOTA_MT','LOG_NOTA_MT'],axis=1).columns"
   ]
  },
  {
   "cell_type": "code",
   "execution_count": 8,
   "metadata": {
    "ExecuteTime": {
     "end_time": "2020-08-05T20:02:39.793004Z",
     "start_time": "2020-08-05T20:02:39.677140Z"
    }
   },
   "outputs": [],
   "source": [
    "pca = PCA(n_components = 0.95)\n",
    "n = pca.fit(X).n_components_"
   ]
  },
  {
   "cell_type": "code",
   "execution_count": 9,
   "metadata": {
    "ExecuteTime": {
     "end_time": "2020-08-05T20:02:40.040399Z",
     "start_time": "2020-08-05T20:02:39.793004Z"
    }
   },
   "outputs": [
    {
     "data": {
      "text/plain": [
       "array([0.30520739, 0.07947584, 0.07082119, 0.03631478, 0.0342917 ,\n",
       "       0.03242346, 0.02834709, 0.02775822, 0.02743816, 0.02711615,\n",
       "       0.02708373, 0.02700832, 0.02684652, 0.02649308, 0.0260626 ,\n",
       "       0.02470781, 0.02370245, 0.02282034, 0.02055218, 0.01796548,\n",
       "       0.01422516, 0.01319847, 0.01234556])"
      ]
     },
     "execution_count": 9,
     "metadata": {},
     "output_type": "execute_result"
    }
   ],
   "source": [
    "pca = PCA(n_components=n)\n",
    "pca.fit(X).explained_variance_ratio_"
   ]
  },
  {
   "cell_type": "code",
   "execution_count": 10,
   "metadata": {
    "ExecuteTime": {
     "end_time": "2020-08-05T20:02:40.890463Z",
     "start_time": "2020-08-05T20:02:40.040399Z"
    }
   },
   "outputs": [
    {
     "data": {
      "text/plain": [
       "array(['NU_IDADE', 'TP_SEXO', 'IN_DISLEXIA', 'IN_DISCALCULIA',\n",
       "       'IN_SABATISTA', 'TP_PRESENCA_CN', 'TP_PRESENCA_CH',\n",
       "       'TP_PRESENCA_LC', 'NU_NOTA_CN', 'NU_NOTA_CH', 'NU_NOTA_LC',\n",
       "       'TP_LINGUA', 'TP_STATUS_REDACAO', 'NU_NOTA_COMP1', 'NU_NOTA_COMP3',\n",
       "       'NU_NOTA_COMP4', 'NU_NOTA_COMP5', 'NU_NOTA_REDACAO', 'Q002',\n",
       "       'Q006', 'Q024', 'Q026', 'Q047'], dtype='<U17')"
      ]
     },
     "execution_count": 10,
     "metadata": {},
     "output_type": "execute_result"
    }
   ],
   "source": [
    "rfe = RFE(RidgeCV(),n_features_to_select=n, step=1)\n",
    "z = list(zip(X.columns,rfe.fit(X,y).support_))\n",
    "features = []\n",
    "for i in range(0,len(z)):\n",
    "    if z[i][1] == True:\n",
    "        features.append(z[i][0])\n",
    "np.array(features)"
   ]
  },
  {
   "cell_type": "code",
   "execution_count": 11,
   "metadata": {
    "ExecuteTime": {
     "end_time": "2020-08-05T20:02:40.910614Z",
     "start_time": "2020-08-05T20:02:40.890463Z"
    }
   },
   "outputs": [],
   "source": [
    "X = X[features]"
   ]
  },
  {
   "cell_type": "code",
   "execution_count": 12,
   "metadata": {
    "ExecuteTime": {
     "end_time": "2020-08-05T20:02:41.187012Z",
     "start_time": "2020-08-05T20:02:40.910614Z"
    }
   },
   "outputs": [
    {
     "data": {
      "text/plain": [
       "0.9042329560392024"
      ]
     },
     "execution_count": 12,
     "metadata": {},
     "output_type": "execute_result"
    }
   ],
   "source": [
    "alphas = [6]\n",
    "ridge_cv = RidgeCV(alphas=alphas,cv=5).fit(X,y)\n",
    "y_pred = ridge_cv.predict(X)\n",
    "y_exp = np.exp(y_pred)-0.1\n",
    "r2_score(df['NU_NOTA_MT'].values, y_exp)"
   ]
  },
  {
   "cell_type": "code",
   "execution_count": 13,
   "metadata": {
    "ExecuteTime": {
     "end_time": "2020-08-05T20:02:41.218261Z",
     "start_time": "2020-08-05T20:02:41.187012Z"
    }
   },
   "outputs": [
    {
     "data": {
      "text/plain": [
       "6"
      ]
     },
     "execution_count": 13,
     "metadata": {},
     "output_type": "execute_result"
    }
   ],
   "source": [
    "ridge_cv.alpha_"
   ]
  },
  {
   "cell_type": "code",
   "execution_count": 14,
   "metadata": {
    "ExecuteTime": {
     "end_time": "2020-08-05T20:02:41.349767Z",
     "start_time": "2020-08-05T20:02:41.218261Z"
    }
   },
   "outputs": [
    {
     "data": {
      "text/plain": [
       "0.9973204986116941"
      ]
     },
     "execution_count": 14,
     "metadata": {},
     "output_type": "execute_result"
    }
   ],
   "source": [
    "ridge_cv.best_score_"
   ]
  },
  {
   "cell_type": "code",
   "execution_count": 15,
   "metadata": {
    "ExecuteTime": {
     "end_time": "2020-08-05T20:02:41.519102Z",
     "start_time": "2020-08-05T20:02:41.349767Z"
    }
   },
   "outputs": [],
   "source": [
    "df_test = pd.read_csv('C:\\\\Users\\\\Luiz Guilherme\\\\codenation\\\\enem-2\\\\test.CSV')\n",
    "inscricao = df_test['NU_INSCRICAO']\n",
    "df_test = df_test[X.columns]\n",
    "df_test=df_test.fillna(0)"
   ]
  },
  {
   "cell_type": "code",
   "execution_count": 16,
   "metadata": {
    "ExecuteTime": {
     "end_time": "2020-08-05T20:02:41.635027Z",
     "start_time": "2020-08-05T20:02:41.519102Z"
    }
   },
   "outputs": [],
   "source": [
    "df_test['TP_SEXO'] = df_test['TP_SEXO'].replace({'M':0, 'F':1})\n",
    "colunas = ['Q002','Q006','Q024','Q026','Q047']\n",
    "encoder = {'A':1,'B':2,'C':3,'D':4,'E':5,'F':6,'G':7,'H':8,'I':9,\n",
    "           'J':10,'K':11,'L':12,'M':13,'N':14,'O':15,'P':16,'Q':17}\n",
    "df_test[colunas] = df_test[colunas].replace(encoder)\n",
    "df_test['NU_NOTA_CN'] = np.log(df_test['NU_NOTA_CN']+0.1)\n",
    "df_test['NU_NOTA_CH'] = np.log(df_test['NU_NOTA_CH']+0.1)\n",
    "df_test['NU_NOTA_LC'] = np.log(df_test['NU_NOTA_LC']+0.1)\n",
    "df_test['NU_NOTA_REDACAO'] = np.log(df_test['NU_NOTA_REDACAO']+0.1)\n",
    "df_test = scaler.fit_transform(df_test)"
   ]
  },
  {
   "cell_type": "code",
   "execution_count": 17,
   "metadata": {
    "ExecuteTime": {
     "end_time": "2020-08-05T20:02:41.750918Z",
     "start_time": "2020-08-05T20:02:41.635027Z"
    }
   },
   "outputs": [],
   "source": [
    "y_pred = ridge_cv.predict(df_test)\n",
    "y_exp = np.exp(y_pred)-0.1"
   ]
  },
  {
   "cell_type": "code",
   "execution_count": 18,
   "metadata": {
    "ExecuteTime": {
     "end_time": "2020-08-05T20:02:42.189976Z",
     "start_time": "2020-08-05T20:02:41.750918Z"
    }
   },
   "outputs": [],
   "source": [
    "answer = pd.DataFrame({'NU_INSCRICAO':inscricao,'NU_NOTA_MT':y_exp.round(1)})"
   ]
  },
  {
   "cell_type": "code",
   "execution_count": 19,
   "metadata": {
    "ExecuteTime": {
     "end_time": "2020-08-05T20:02:42.522176Z",
     "start_time": "2020-08-05T20:02:42.189976Z"
    }
   },
   "outputs": [],
   "source": [
    "answer.to_csv('answer.csv', index=False)"
   ]
  },
  {
   "cell_type": "code",
   "execution_count": 20,
   "metadata": {
    "ExecuteTime": {
     "end_time": "2020-08-05T20:02:42.807409Z",
     "start_time": "2020-08-05T20:02:42.522176Z"
    }
   },
   "outputs": [
    {
     "data": {
      "text/html": [
       "<div>\n",
       "<style scoped>\n",
       "    .dataframe tbody tr th:only-of-type {\n",
       "        vertical-align: middle;\n",
       "    }\n",
       "\n",
       "    .dataframe tbody tr th {\n",
       "        vertical-align: top;\n",
       "    }\n",
       "\n",
       "    .dataframe thead th {\n",
       "        text-align: right;\n",
       "    }\n",
       "</style>\n",
       "<table border=\"1\" class=\"dataframe\">\n",
       "  <thead>\n",
       "    <tr style=\"text-align: right;\">\n",
       "      <th></th>\n",
       "      <th>NU_INSCRICAO</th>\n",
       "      <th>NU_NOTA_MT</th>\n",
       "    </tr>\n",
       "  </thead>\n",
       "  <tbody>\n",
       "    <tr>\n",
       "      <th>0</th>\n",
       "      <td>73ff9fcc02f0a99919906c942c2e1a1042cdcf98</td>\n",
       "      <td>390.4</td>\n",
       "    </tr>\n",
       "    <tr>\n",
       "      <th>1</th>\n",
       "      <td>71a95f9f1b91a82c65ad94abbdf9f54e6066f968</td>\n",
       "      <td>483.4</td>\n",
       "    </tr>\n",
       "    <tr>\n",
       "      <th>2</th>\n",
       "      <td>b38a03232f43b11c9d0788abaf060f7366053b6d</td>\n",
       "      <td>566.8</td>\n",
       "    </tr>\n",
       "    <tr>\n",
       "      <th>3</th>\n",
       "      <td>70b682d9a3636be23f6120fa9d6b164eb3c6002d</td>\n",
       "      <td>-0.0</td>\n",
       "    </tr>\n",
       "    <tr>\n",
       "      <th>4</th>\n",
       "      <td>715494628a50142ce8cb17191cfe6d0f3cae0934</td>\n",
       "      <td>555.1</td>\n",
       "    </tr>\n",
       "    <tr>\n",
       "      <th>...</th>\n",
       "      <td>...</td>\n",
       "      <td>...</td>\n",
       "    </tr>\n",
       "    <tr>\n",
       "      <th>4571</th>\n",
       "      <td>dac0f22429c7f8e3931d0abaf5dfc8e5c772a48b</td>\n",
       "      <td>451.4</td>\n",
       "    </tr>\n",
       "    <tr>\n",
       "      <th>4572</th>\n",
       "      <td>a75fa8770257e7c9368d059fe53d9ef431f4bdef</td>\n",
       "      <td>444.7</td>\n",
       "    </tr>\n",
       "    <tr>\n",
       "      <th>4573</th>\n",
       "      <td>655fa6306720ff16e825903b5422a46608a77545</td>\n",
       "      <td>596.0</td>\n",
       "    </tr>\n",
       "    <tr>\n",
       "      <th>4574</th>\n",
       "      <td>1f4bc3e3d56212d500625bfe8ac78ccff4362293</td>\n",
       "      <td>508.8</td>\n",
       "    </tr>\n",
       "    <tr>\n",
       "      <th>4575</th>\n",
       "      <td>adf0d15b54317b6564ef56dad2b775bbb0ef50cc</td>\n",
       "      <td>0.0</td>\n",
       "    </tr>\n",
       "  </tbody>\n",
       "</table>\n",
       "<p>4576 rows × 2 columns</p>\n",
       "</div>"
      ],
      "text/plain": [
       "                                  NU_INSCRICAO  NU_NOTA_MT\n",
       "0     73ff9fcc02f0a99919906c942c2e1a1042cdcf98       390.4\n",
       "1     71a95f9f1b91a82c65ad94abbdf9f54e6066f968       483.4\n",
       "2     b38a03232f43b11c9d0788abaf060f7366053b6d       566.8\n",
       "3     70b682d9a3636be23f6120fa9d6b164eb3c6002d        -0.0\n",
       "4     715494628a50142ce8cb17191cfe6d0f3cae0934       555.1\n",
       "...                                        ...         ...\n",
       "4571  dac0f22429c7f8e3931d0abaf5dfc8e5c772a48b       451.4\n",
       "4572  a75fa8770257e7c9368d059fe53d9ef431f4bdef       444.7\n",
       "4573  655fa6306720ff16e825903b5422a46608a77545       596.0\n",
       "4574  1f4bc3e3d56212d500625bfe8ac78ccff4362293       508.8\n",
       "4575  adf0d15b54317b6564ef56dad2b775bbb0ef50cc         0.0\n",
       "\n",
       "[4576 rows x 2 columns]"
      ]
     },
     "execution_count": 20,
     "metadata": {},
     "output_type": "execute_result"
    }
   ],
   "source": [
    "pd.read_csv('C:\\\\Users\\\\Luiz Guilherme\\\\codenation\\\\enem-2\\\\answer.csv')"
   ]
  }
 ],
 "metadata": {
  "kernelspec": {
   "display_name": "Python 3",
   "language": "python",
   "name": "python3"
  },
  "language_info": {
   "codemirror_mode": {
    "name": "ipython",
    "version": 3
   },
   "file_extension": ".py",
   "mimetype": "text/x-python",
   "name": "python",
   "nbconvert_exporter": "python",
   "pygments_lexer": "ipython3",
   "version": "3.8.5"
  },
  "toc": {
   "base_numbering": 1,
   "nav_menu": {},
   "number_sections": true,
   "sideBar": true,
   "skip_h1_title": false,
   "title_cell": "Table of Contents",
   "title_sidebar": "Contents",
   "toc_cell": false,
   "toc_position": {},
   "toc_section_display": true,
   "toc_window_display": false
  }
 },
 "nbformat": 4,
 "nbformat_minor": 2
}
